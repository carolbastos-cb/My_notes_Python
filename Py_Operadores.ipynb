{
 "cells": [
  {
   "cell_type": "markdown",
   "metadata": {},
   "source": [
    "\n",
    "<b><i><h1 style=\"color:GhostWhite;text-align:center;font-size:45px;background-color:dimgray\">\n",
    "    OPERADORES\n",
    "    </h1></i></b>\n",
    "<hr size=\"10\">"
   ]
  },
  {
   "cell_type": "markdown",
   "metadata": {},
   "source": [
    "# Conteúdo Operadores:"
   ]
  },
  {
   "cell_type": "markdown",
   "metadata": {},
   "source": [
    "<b><font style = 'font-size:20px'>[1. Operadores Aritméticos - Binários](#1.-OPERADORES-BINÁRIOS)</font></b>\n",
    "    \n",
    "   *[1.1 Ordem de Procedência](#1.1.-ORDEM-DE-PROCEDÊNCIA)\\\n",
    "   [1.2 Observações](#1.2.-OBSERVAÇÕES)*\n",
    "   \n",
    " \n",
    "<b><font style = 'font-size:20px'>[2. Operadores de Atribuição - Unários](#2.-OPERADORES-UNÁRIOS)</font></b>\n",
    "\n",
    "   *[2.1 Observações](#2.1.-OBSERVAÇÕES)*\n",
    "   \n",
    " \n",
    "<b><font style = 'font-size:20px'>[3. Operadores Relacionais](#3.-OPERADORES-RELACIONAIS)</font></b>\n",
    "\n",
    "   *[3.1 Observações](#3.1.-OBSERVAÇÕES)*\n",
    "\n",
    "<b><font style = 'font-size:20px'>[4. Operadores Lógicas](#4.-OPERADORES-LÓGICOS)</font></b>\n",
    "\n",
    "   *[4.1 Observações](#4.1.-OBSERVAÇÕES)\\\n",
    "   [4.2 Tabelas Verdade](#4.2.-TABELAS-VERDADE)\\\n",
    "   [4.3 Short-Circuit Evaluation](#4.3.-SHORT-CIRCUIT-EVALUATION)*\n",
    "\n",
    "<b><font style = 'font-size:20px'>[5. Operadores de Membro e Identidade](#5.-OPERADORES-DE-MEMBRO-E-IDENTIDADE)</font></b>\n",
    "\n",
    "\n",
    "<hr size=\"10\">"
   ]
  },
  {
   "cell_type": "markdown",
   "metadata": {},
   "source": [
    "<hr size=\"5\"/>\n",
    "<b><i><h2 style=\"color:ghostwhite;text-align:center;font-size:50px;background-color:darkblue\">\n",
    "    OPERADORES ARITMÉTICOS - BINÁRIOS\n",
    "    </h2></i></b>\n",
    "<hr size=\"5\"/>"
   ]
  },
  {
   "cell_type": "markdown",
   "metadata": {},
   "source": [
    "Links Úteis\n",
    "\n",
    "[Operators and Expressions in Python](https://realpython.com/python-operators-expressions/)"
   ]
  },
  {
   "cell_type": "markdown",
   "metadata": {},
   "source": [
    "# [**1. OPERADORES BINÁRIOS**](https://docs.python.org/pt-br/3/library/stdtypes.html?highlight=int#numeric-types-int-float-complex)"
   ]
  },
  {
   "cell_type": "markdown",
   "metadata": {},
   "source": [
    "OPERAÇÃO|SÍMBOLO\n",
    "-:-|--:\n",
    "**Soma** | `+`      \n",
    "**Subtração** | `-`\n",
    "**Multiplicação** | `*`\n",
    "**Potenciação** | `**`\n",
    "**Divisão** | `/`\n",
    "**Divisão (inteiros)** | `//`\n",
    "**Módulo** | `%`"
   ]
  },
  {
   "cell_type": "markdown",
   "metadata": {},
   "source": [
    "## **1.1. ORDEM DE PROCEDÊNCIA**"
   ]
  },
  {
   "cell_type": "markdown",
   "metadata": {},
   "source": [
    "* 1º Parêntesis;\n",
    "\n",
    "* 2º Expoentes;\n",
    "\n",
    "* 3º Multiplicações e Divisões; (da esquerda para a direita)\n",
    "\n",
    "* 4º Somas e Subtrações. (da esquerda para a direita)"
   ]
  },
  {
   "cell_type": "markdown",
   "metadata": {},
   "source": [
    " Prioridade|Operator|Description\n",
    "    -|-|-\n",
    "Menor Prioridade|or | Boolean OR\n",
    " |and|Boolean AND\n",
    " |not|Boolean NOT\n",
    " |==, !=, <, <=, >, >=, is, is not|comparisons, identity\n",
    " |\\||bitwise OR\n",
    " |^|bitwise XOR\n",
    " |&|bitwise AND\n",
    " |<<, >>|bit shifts\n",
    " |+, -|addition, subtraction\n",
    " |*, /, //, %|multiplication, division, floor division, modulo\n",
    " |+x, -x, ~x|unary positive, unary negation, bitwise negation\n",
    "Maior Prioridade|\\**|exponentiation"
   ]
  },
  {
   "cell_type": "markdown",
   "metadata": {},
   "source": [
    "## **1.2. OBSERVAÇÕES**"
   ]
  },
  {
   "cell_type": "markdown",
   "metadata": {},
   "source": [
    "- **Divisão** :       \n",
    "    - `/`  sempre retorna um número FLOAT (decimal)    \n",
    "    - `//` retorna apenas o número inteiro (int)    \n",
    "    - `%`  retorna o resto da divisão   \n",
    "    \n",
    "\n",
    "- Através do módulo `(%)` podemos descobrir se o número é divisível por outro ou se ele é par ou ímpar\n",
    "\n",
    "\n",
    "<hr size=\"5\"/>\n",
    "\n",
    "<font style=\"font-size:20px;\">[Voltar](#Conteúdo-Operadores:)</font>\n",
    "<hr size=\"5\"/>"
   ]
  },
  {
   "cell_type": "code",
   "execution_count": 7,
   "metadata": {},
   "outputs": [
    {
     "data": {
      "text/plain": [
       "8"
      ]
     },
     "execution_count": 7,
     "metadata": {},
     "output_type": "execute_result"
    }
   ],
   "source": [
    "# soma\n",
    "\n",
    "5 + 3"
   ]
  },
  {
   "cell_type": "code",
   "execution_count": 8,
   "metadata": {},
   "outputs": [
    {
     "data": {
      "text/plain": [
       "2"
      ]
     },
     "execution_count": 8,
     "metadata": {},
     "output_type": "execute_result"
    }
   ],
   "source": [
    "#subtração\n",
    "\n",
    "5 - 3"
   ]
  },
  {
   "cell_type": "code",
   "execution_count": 9,
   "metadata": {},
   "outputs": [
    {
     "data": {
      "text/plain": [
       "5.666666666666667"
      ]
     },
     "execution_count": 9,
     "metadata": {},
     "output_type": "execute_result"
    }
   ],
   "source": [
    "# divisão\n",
    "# retorna float, sempre\n",
    "\n",
    "17/3"
   ]
  },
  {
   "cell_type": "code",
   "execution_count": 10,
   "metadata": {},
   "outputs": [
    {
     "data": {
      "text/plain": [
       "5"
      ]
     },
     "execution_count": 10,
     "metadata": {},
     "output_type": "execute_result"
    }
   ],
   "source": [
    "# divisão somente o inteiro\n",
    "\n",
    "17 // 3"
   ]
  },
  {
   "cell_type": "code",
   "execution_count": 1,
   "metadata": {},
   "outputs": [
    {
     "data": {
      "text/plain": [
       "2"
      ]
     },
     "execution_count": 1,
     "metadata": {},
     "output_type": "execute_result"
    }
   ],
   "source": [
    "'''\n",
    "módulo da divisão\n",
    "Muito usado para descobrir se um número é par ou ímpar.\n",
    "Divido o número que quero saber por 2, se o módulo der 0 é par, se der != de 0 é ímpar.\n",
    "'''\n",
    "17 % 3"
   ]
  },
  {
   "cell_type": "code",
   "execution_count": 2,
   "metadata": {},
   "outputs": [
    {
     "data": {
      "text/plain": [
       "0"
      ]
     },
     "execution_count": 2,
     "metadata": {},
     "output_type": "execute_result"
    }
   ],
   "source": [
    "\"\"\"\n",
    "Para descobrir se um número é par podemos dividí-lo por 2 e verificar o resto\n",
    "Se o resto for igual a zero, o número é par\n",
    "\"\"\"\n",
    "\n",
    "4 % 2"
   ]
  },
  {
   "cell_type": "code",
   "execution_count": 12,
   "metadata": {},
   "outputs": [
    {
     "data": {
      "text/plain": [
       "6"
      ]
     },
     "execution_count": 12,
     "metadata": {},
     "output_type": "execute_result"
    }
   ],
   "source": [
    "# multiplicação\n",
    "\n",
    "3 * 2"
   ]
  },
  {
   "cell_type": "markdown",
   "metadata": {},
   "source": [
    "$$\n",
    "3^2\n",
    "$$"
   ]
  },
  {
   "cell_type": "code",
   "execution_count": 3,
   "metadata": {},
   "outputs": [
    {
     "data": {
      "text/plain": [
       "9"
      ]
     },
     "execution_count": 3,
     "metadata": {},
     "output_type": "execute_result"
    }
   ],
   "source": [
    "# potenciação --> 3 elevado ao quadrado\n",
    "\n",
    "3 ** 2"
   ]
  },
  {
   "cell_type": "code",
   "execution_count": 14,
   "metadata": {},
   "outputs": [
    {
     "data": {
      "text/plain": [
       "'carolina'"
      ]
     },
     "execution_count": 14,
     "metadata": {},
     "output_type": "execute_result"
    }
   ],
   "source": [
    "# soma com strings: concatenação\n",
    "\n",
    "'carol' + 'ina'"
   ]
  },
  {
   "cell_type": "code",
   "execution_count": 15,
   "metadata": {},
   "outputs": [
    {
     "ename": "TypeError",
     "evalue": "can only concatenate str (not \"int\") to str",
     "output_type": "error",
     "traceback": [
      "\u001b[0;31m---------------------------------------------------------------------------\u001b[0m",
      "\u001b[0;31mTypeError\u001b[0m                                 Traceback (most recent call last)",
      "\u001b[0;32m<ipython-input-15-7db098fb70ca>\u001b[0m in \u001b[0;36m<module>\u001b[0;34m\u001b[0m\n\u001b[1;32m      2\u001b[0m \u001b[0;31m# retorna erro\u001b[0m\u001b[0;34m\u001b[0m\u001b[0;34m\u001b[0m\u001b[0;34m\u001b[0m\u001b[0m\n\u001b[1;32m      3\u001b[0m \u001b[0;34m\u001b[0m\u001b[0m\n\u001b[0;32m----> 4\u001b[0;31m \u001b[0;34m'carol'\u001b[0m \u001b[0;34m+\u001b[0m \u001b[0;36m3\u001b[0m\u001b[0;34m\u001b[0m\u001b[0;34m\u001b[0m\u001b[0m\n\u001b[0m",
      "\u001b[0;31mTypeError\u001b[0m: can only concatenate str (not \"int\") to str"
     ]
    }
   ],
   "source": [
    "# soma de string com int\n",
    "# retorna erro\n",
    "\n",
    "'carol' + 3"
   ]
  },
  {
   "cell_type": "code",
   "execution_count": 17,
   "metadata": {},
   "outputs": [
    {
     "data": {
      "text/plain": [
       "'carol10'"
      ]
     },
     "execution_count": 17,
     "metadata": {},
     "output_type": "execute_result"
    }
   ],
   "source": [
    "# para somar string com número é necessário fazer o casting do número para string\n",
    "\n",
    "'carol' + str(10) # casting"
   ]
  },
  {
   "cell_type": "code",
   "execution_count": 20,
   "metadata": {},
   "outputs": [
    {
     "data": {
      "text/plain": [
       "'carol/carol/carol/'"
      ]
     },
     "execution_count": 20,
     "metadata": {},
     "output_type": "execute_result"
    }
   ],
   "source": [
    "# multiplicando string e número\n",
    "\n",
    "'carol/' * 3"
   ]
  },
  {
   "cell_type": "code",
   "execution_count": 21,
   "metadata": {},
   "outputs": [
    {
     "ename": "TypeError",
     "evalue": "can't multiply sequence by non-int of type 'str'",
     "output_type": "error",
     "traceback": [
      "\u001b[0;31m---------------------------------------------------------------------------\u001b[0m",
      "\u001b[0;31mTypeError\u001b[0m                                 Traceback (most recent call last)",
      "\u001b[0;32m<ipython-input-21-1785d86c7407>\u001b[0m in \u001b[0;36m<module>\u001b[0;34m\u001b[0m\n\u001b[0;32m----> 1\u001b[0;31m \u001b[0;34m'carol'\u001b[0m\u001b[0;34m*\u001b[0m\u001b[0;34m'Ina'\u001b[0m\u001b[0;34m\u001b[0m\u001b[0;34m\u001b[0m\u001b[0m\n\u001b[0m",
      "\u001b[0;31mTypeError\u001b[0m: can't multiply sequence by non-int of type 'str'"
     ]
    }
   ],
   "source": [
    "# toda mutiplicação precisa envolver ao menos um número\n",
    "# não é possível mutiplicar str * str\n",
    "\n",
    "'carol'*'Ina'"
   ]
  },
  {
   "cell_type": "markdown",
   "metadata": {},
   "source": [
    "<hr size=\"5\"/>\n",
    "<b><i><h2 style=\"color:ghostwhite;text-align:center;font-size:50px;background-color:darkblue\">\n",
    "    OPERADORES DE ATRIBUIÇÃO - UNÁRIOS\n",
    "    </h2></i></b>\n",
    "<hr size=\"5\"/>"
   ]
  },
  {
   "cell_type": "markdown",
   "metadata": {},
   "source": [
    "# **2. OPERADORES UNÁRIOS**"
   ]
  },
  {
   "cell_type": "markdown",
   "metadata": {},
   "source": [
    "ATRIBUIÇÃO | SÍMBOLO\n",
    ":-:-|-:\n",
    "***acrescentativa*** |`+=`   \n",
    "***subtrativa*** |`-=`   \n",
    "***multiplicativa*** |`*=`    \n",
    "***divisiva*** | `/=`    \n",
    "***modular*** | `%=`    \n",
    "***exponencial*** | `**=`    \n",
    "pela divisão ***(somente inteiros)*** |  `//=`"
   ]
  },
  {
   "cell_type": "markdown",
   "metadata": {},
   "source": [
    "## **2.1. OBSERVAÇÕES**"
   ]
  },
  {
   "cell_type": "markdown",
   "metadata": {},
   "source": [
    "\n",
    "\n",
    "<hr size=\"5\"/>\n",
    "\n",
    "<font style=\"font-size:20px;\">[Voltar](#Conteúdo-Operadores:)</font>\n",
    "<hr size=\"5\"/>"
   ]
  },
  {
   "cell_type": "code",
   "execution_count": 38,
   "metadata": {},
   "outputs": [
    {
     "data": {
      "text/plain": [
       "10"
      ]
     },
     "execution_count": 38,
     "metadata": {},
     "output_type": "execute_result"
    }
   ],
   "source": [
    "# acrescentativa\n",
    "\n",
    "a = 5\n",
    "a += 5 # a = a + 5\n",
    "a"
   ]
  },
  {
   "cell_type": "code",
   "execution_count": 39,
   "metadata": {},
   "outputs": [
    {
     "data": {
      "text/plain": [
       "8"
      ]
     },
     "execution_count": 39,
     "metadata": {},
     "output_type": "execute_result"
    }
   ],
   "source": [
    "# subtrativa\n",
    "\n",
    "a -= 2 # a = a - 2\n",
    "a"
   ]
  },
  {
   "cell_type": "code",
   "execution_count": 40,
   "metadata": {},
   "outputs": [
    {
     "data": {
      "text/plain": [
       "40"
      ]
     },
     "execution_count": 40,
     "metadata": {},
     "output_type": "execute_result"
    }
   ],
   "source": [
    "# multiplicativa\n",
    "\n",
    "a *= 5 # a = a * 5\n",
    "a"
   ]
  },
  {
   "cell_type": "code",
   "execution_count": 41,
   "metadata": {},
   "outputs": [
    {
     "data": {
      "text/plain": [
       "20.0"
      ]
     },
     "execution_count": 41,
     "metadata": {},
     "output_type": "execute_result"
    }
   ],
   "source": [
    "# divisiva\n",
    "\n",
    "a /= 2 # a = a / 2\n",
    "a"
   ]
  },
  {
   "cell_type": "code",
   "execution_count": 42,
   "metadata": {},
   "outputs": [
    {
     "data": {
      "text/plain": [
       "2.0"
      ]
     },
     "execution_count": 42,
     "metadata": {},
     "output_type": "execute_result"
    }
   ],
   "source": [
    "# modular\n",
    "\n",
    "a %= 3 # a = a % 3\n",
    "a"
   ]
  },
  {
   "cell_type": "code",
   "execution_count": 43,
   "metadata": {},
   "outputs": [
    {
     "data": {
      "text/plain": [
       "4.0"
      ]
     },
     "execution_count": 43,
     "metadata": {},
     "output_type": "execute_result"
    }
   ],
   "source": [
    "# pontenciativa\n",
    "\n",
    "a **= 2 # a = a ** 2\n",
    "a"
   ]
  },
  {
   "cell_type": "code",
   "execution_count": 44,
   "metadata": {},
   "outputs": [
    {
     "data": {
      "text/plain": [
       "1.0"
      ]
     },
     "execution_count": 44,
     "metadata": {},
     "output_type": "execute_result"
    }
   ],
   "source": [
    "# divisiva por inteiros\n",
    "\n",
    "a //= 3 # a = a // 3\n",
    "a"
   ]
  },
  {
   "cell_type": "markdown",
   "metadata": {},
   "source": [
    "<hr size=\"5\"/>\n",
    "<b><i><h2 style=\"color:ghostwhite;text-align:center;font-size:50px;background-color:darkblue\">\n",
    "    OPERADORES RELACIONAIS\n",
    "    </h2></i></b>\n",
    "<hr size=\"5\"/>"
   ]
  },
  {
   "cell_type": "markdown",
   "metadata": {},
   "source": [
    "# **3. OPERADORES RELACIONAIS**"
   ]
  },
  {
   "cell_type": "markdown",
   "metadata": {},
   "source": [
    "- Operadores relacionais retornam valores booleanos (`True` ou `False`)\n",
    "\n",
    "\n",
    "\n",
    "\n",
    "**ATRIBUIÇÃO**       | **OPERADOR**\n",
    ":-------------------:|:------:\n",
    "***Maior que***      |>   \n",
    "***Maior ou igual*** |>=   \n",
    "***Menor que***      |<    \n",
    "***Menor ou igual*** |<=    \n",
    "***Igual***          |==    \n",
    "***Diferente***      |!=    \n"
   ]
  },
  {
   "cell_type": "markdown",
   "metadata": {},
   "source": [
    "## **3.1. OBSERVAÇÕES**"
   ]
  },
  {
   "cell_type": "markdown",
   "metadata": {},
   "source": [
    "- Cuidado ao comparar `igualdade de números float`\n",
    "- Nem sempre os floats são armazenados como vemos nas casas decimais, assim, ao comparar a igualdade teríamos um `False`\n",
    "- A melhor forma de **comparar floats** é definindo uma tolerância e verificando se a diferença entre os valores em termos absolutos (abs())é menor que a tolerância. \n",
    "\n",
    "<hr size=\"5\"/>\n",
    "\n",
    "<font style=\"font-size:20px;\">[Voltar](#Conteúdo-Operadores:)</font>\n",
    "<hr size=\"5\"/>"
   ]
  },
  {
   "cell_type": "code",
   "execution_count": 22,
   "metadata": {},
   "outputs": [
    {
     "data": {
      "text/plain": [
       "True"
      ]
     },
     "execution_count": 22,
     "metadata": {},
     "output_type": "execute_result"
    }
   ],
   "source": [
    "# maior que\n",
    "\n",
    "45 > 30"
   ]
  },
  {
   "cell_type": "code",
   "execution_count": 23,
   "metadata": {},
   "outputs": [
    {
     "data": {
      "text/plain": [
       "False"
      ]
     },
     "execution_count": 23,
     "metadata": {},
     "output_type": "execute_result"
    }
   ],
   "source": [
    "# menor que\n",
    "\n",
    "45 < 30"
   ]
  },
  {
   "cell_type": "code",
   "execution_count": 24,
   "metadata": {},
   "outputs": [
    {
     "data": {
      "text/plain": [
       "True"
      ]
     },
     "execution_count": 24,
     "metadata": {},
     "output_type": "execute_result"
    }
   ],
   "source": [
    "# igual\n",
    "\n",
    "45 == 40+5"
   ]
  },
  {
   "cell_type": "code",
   "execution_count": 29,
   "metadata": {},
   "outputs": [
    {
     "data": {
      "text/plain": [
       "True"
      ]
     },
     "execution_count": 29,
     "metadata": {},
     "output_type": "execute_result"
    }
   ],
   "source": [
    "# diferente\n",
    "\n",
    "23 * 3 != 34 + 23"
   ]
  },
  {
   "cell_type": "code",
   "execution_count": 1,
   "metadata": {},
   "outputs": [
    {
     "data": {
      "text/plain": [
       "False"
      ]
     },
     "execution_count": 1,
     "metadata": {},
     "output_type": "execute_result"
    }
   ],
   "source": [
    "# os números float nem sempre guardam os valores que estamos vendo nas casas decimais,\n",
    "# logo não devemos compará-los para igualdades pois há grandes chances de deram errado.\n",
    "\n",
    "1.1 + 2.2 == 3.3"
   ]
  },
  {
   "cell_type": "code",
   "execution_count": 13,
   "metadata": {},
   "outputs": [
    {
     "data": {
      "text/plain": [
       "True"
      ]
     },
     "execution_count": 13,
     "metadata": {},
     "output_type": "execute_result"
    }
   ],
   "source": [
    "# a melhor maneira de comparar a igualdade de 2 números float é definindo uma tolerância e \n",
    "# comparando o absoluto da diferença dos números com a tolerância\n",
    "# se a dif do abs () dos números for menor que a tolerância, são próximos o suficiente para\n",
    "# serem considerados iguais\n",
    "\n",
    "\n",
    "tolerancia = 0.01\n",
    "abs(1.1 + 2.2 - 3.3)< tolerancia"
   ]
  },
  {
   "cell_type": "markdown",
   "metadata": {},
   "source": [
    "<hr size=\"5\"/>\n",
    "<b><i><h2 style=\"color:ghostwhite;text-align:center;font-size:50px;background-color:darkblue\">\n",
    "    OPERADORES LÓGICOS\n",
    "    </h2></i></b>\n",
    "<hr size=\"5\"/>"
   ]
  },
  {
   "cell_type": "markdown",
   "metadata": {},
   "source": [
    "# **4. OPERADORES LÓGICOS**\n"
   ]
  },
  {
   "cell_type": "markdown",
   "metadata": {},
   "source": [
    "- Operandos são Verdadeiro ou Falso e os resultados são verdadeiro ou falso\n",
    "\n",
    "    1. **AND** --> Retorna o primeiro valor falso encontrado\n",
    "    2. **OR** --> Retorna o primeiro valor verdadeiro encontrado\n",
    "    3. **NOT** --> Usado para reverter o estado da lógica\n",
    "    \n",
    "    4. **NOR** (ou exclusivo) --> exclusivamente eles devem ser diferentes, não podemos ter valores iguais\n",
    "\n",
    "\n",
    "\n",
    "\n",
    "\n",
    "\n",
    "OPERADOR | OBSERVAÇÃO \n",
    "-|-\n",
    "***NOT*** | not True == False   ------------   not False == True\n",
    "***AND*** | retorna o primeiro valor ***`falso`***, caso não haja, retorna o último valor\n",
    "***OR***  | retorna o primeiro valor ***`verdadeiro`***, caso não haja, retorna o último valor\n",
    "***NOR*** | xor (!=) exclusividade\n",
    "\n",
    "   \n",
    " "
   ]
  },
  {
   "cell_type": "markdown",
   "metadata": {},
   "source": [
    "## **4.1. OBSERVAÇÕES**\n"
   ]
  },
  {
   "cell_type": "markdown",
   "metadata": {},
   "source": [
    "- ***VALORES NUMÉRICOS***\n",
    "    - Todo valor numérico `igual a zero` é `False`\n",
    "    - Todo valor numérico `!= de zero` é `True`\n",
    "       \n",
    "       \n",
    "- ***STRINGS***\n",
    "    - Strings `vazias` são `False`\n",
    "    - Strings `não vazias` são `True`\n",
    "       \n",
    "       \n",
    "- ***LISTAS, TUPLAS, DICIONÁRIOS, SETS***\n",
    "    - Se `vazios` são considerados `False`\n",
    "    - Se `não vazios` são considerados `True`\n",
    "   \n",
    "   \n",
    "- ***NoneType***\n",
    "    - Considerado `False` sempre!\n",
    "    \n"
   ]
  },
  {
   "cell_type": "markdown",
   "metadata": {},
   "source": [
    "## **4.2. TABELAS VERDADE**\n"
   ]
  },
  {
   "cell_type": "markdown",
   "metadata": {},
   "source": [
    "### **4.2.1. TABELAS VERDADE DO AND**\n"
   ]
  },
  {
   "cell_type": "markdown",
   "metadata": {},
   "source": [
    "```python\n",
    "True and True # True\n",
    "True and False # False\n",
    "False and True # False\n",
    "False and False # False\n",
    "```"
   ]
  },
  {
   "cell_type": "markdown",
   "metadata": {},
   "source": [
    "### **4.2.2. TABELAS VERDADE DO OR**\n"
   ]
  },
  {
   "cell_type": "markdown",
   "metadata": {},
   "source": [
    "```python\n",
    "True or True # True\n",
    "True or False # True\n",
    "False or True # True\n",
    "False or False # False\n",
    "```"
   ]
  },
  {
   "cell_type": "markdown",
   "metadata": {},
   "source": [
    "### **4.2.3. TABELAS VERDADE DO XOR**\n"
   ]
  },
  {
   "cell_type": "markdown",
   "metadata": {},
   "source": [
    "```python\n",
    "True != True # False\n",
    "True != False # True\n",
    "False != True # True\n",
    "False != False # False\n",
    "```"
   ]
  },
  {
   "cell_type": "markdown",
   "metadata": {},
   "source": [
    "### **4.2.4. TABELAS NEGAÇÃO**\n"
   ]
  },
  {
   "cell_type": "markdown",
   "metadata": {},
   "source": [
    "```python\n",
    "not True # False\n",
    "not False # True\n",
    "\n",
    "not 0 \n",
    "not 1\n",
    "\n",
    "```"
   ]
  },
  {
   "cell_type": "markdown",
   "metadata": {},
   "source": [
    "<hr size=\"5\"/>\n",
    "\n",
    "<font style=\"font-size:20px;\">[Voltar](#Conteúdo-Operadores:)</font>\n",
    "<hr size=\"5\"/>"
   ]
  },
  {
   "cell_type": "code",
   "execution_count": 4,
   "metadata": {},
   "outputs": [
    {
     "data": {
      "text/plain": [
       "False"
      ]
     },
     "execution_count": 4,
     "metadata": {},
     "output_type": "execute_result"
    }
   ],
   "source": [
    "# retorna o primeiro valor falso, se não, retorna o último valor\n",
    "\n",
    "bool(0 and 3)"
   ]
  },
  {
   "cell_type": "code",
   "execution_count": 5,
   "metadata": {},
   "outputs": [
    {
     "data": {
      "text/plain": [
       "0"
      ]
     },
     "execution_count": 5,
     "metadata": {},
     "output_type": "execute_result"
    }
   ],
   "source": [
    "# retorna o primeiro valor falso, se não, retorna o último valor\n",
    "\n",
    "0 and 3"
   ]
  },
  {
   "cell_type": "code",
   "execution_count": 7,
   "metadata": {},
   "outputs": [
    {
     "data": {
      "text/plain": [
       "0"
      ]
     },
     "execution_count": 7,
     "metadata": {},
     "output_type": "execute_result"
    }
   ],
   "source": [
    "# retorna o primeiro valor falso, se não, retorna o último valor\n",
    "\n",
    "3 and 0"
   ]
  },
  {
   "cell_type": "code",
   "execution_count": 9,
   "metadata": {},
   "outputs": [
    {
     "data": {
      "text/plain": [
       "2"
      ]
     },
     "execution_count": 9,
     "metadata": {},
     "output_type": "execute_result"
    }
   ],
   "source": [
    "# retorna o primeiro valor falso, se não, retorna o último valor\n",
    "\n",
    "3 and 2"
   ]
  },
  {
   "cell_type": "code",
   "execution_count": 46,
   "metadata": {},
   "outputs": [
    {
     "data": {
      "text/plain": [
       "False"
      ]
     },
     "execution_count": 46,
     "metadata": {},
     "output_type": "execute_result"
    }
   ],
   "source": [
    "# AND\n",
    "# retorna o primeiro valor falso, ou o último valor encontrado\n",
    "\n",
    "True and False"
   ]
  },
  {
   "cell_type": "code",
   "execution_count": 47,
   "metadata": {},
   "outputs": [
    {
     "data": {
      "text/plain": [
       "0"
      ]
     },
     "execution_count": 47,
     "metadata": {},
     "output_type": "execute_result"
    }
   ],
   "source": [
    "# todo valor 0 em python é falso, e todo valor diferente de 0 e None é True\n",
    "\n",
    "0 and 1"
   ]
  },
  {
   "cell_type": "code",
   "execution_count": 48,
   "metadata": {},
   "outputs": [
    {
     "data": {
      "text/plain": [
       "0"
      ]
     },
     "execution_count": 48,
     "metadata": {},
     "output_type": "execute_result"
    }
   ],
   "source": [
    "# todo valor 0 em python é falso, e todo valor diferente de 0 e None é True\n",
    "\n",
    "1 and 0"
   ]
  },
  {
   "cell_type": "code",
   "execution_count": 49,
   "metadata": {},
   "outputs": [
    {
     "data": {
      "text/plain": [
       "True"
      ]
     },
     "execution_count": 49,
     "metadata": {},
     "output_type": "execute_result"
    }
   ],
   "source": [
    "# OR\n",
    "# retorna o primeiro valor verdaeiro, ou o último valor\n",
    "\n",
    "True or False"
   ]
  },
  {
   "cell_type": "code",
   "execution_count": 10,
   "metadata": {},
   "outputs": [
    {
     "data": {
      "text/plain": [
       "1"
      ]
     },
     "execution_count": 10,
     "metadata": {},
     "output_type": "execute_result"
    }
   ],
   "source": [
    "# retorna o primeiro valor verdaeiro, ou o último valor\n",
    "\n",
    "0 or 1"
   ]
  },
  {
   "cell_type": "code",
   "execution_count": 11,
   "metadata": {},
   "outputs": [
    {
     "data": {
      "text/plain": [
       "1"
      ]
     },
     "execution_count": 11,
     "metadata": {},
     "output_type": "execute_result"
    }
   ],
   "source": [
    "# retorna o primeiro valor verdaeiro, ou o último valor\n",
    "\n",
    "1 or 0"
   ]
  },
  {
   "cell_type": "code",
   "execution_count": 53,
   "metadata": {},
   "outputs": [
    {
     "name": "stdout",
     "output_type": "stream",
     "text": [
      "True\n"
     ]
    },
    {
     "data": {
      "text/plain": [
       "3"
      ]
     },
     "execution_count": 53,
     "metadata": {},
     "output_type": "execute_result"
    }
   ],
   "source": [
    "# or\n",
    "# retorna o primeiro valor verdadeiro, caso não haja, retorna o último valor\n",
    "\n",
    "print(bool(3 or 5))\n",
    "3 or 5"
   ]
  },
  {
   "cell_type": "code",
   "execution_count": 54,
   "metadata": {},
   "outputs": [
    {
     "name": "stdout",
     "output_type": "stream",
     "text": [
      "True\n"
     ]
    },
    {
     "data": {
      "text/plain": [
       "3"
      ]
     },
     "execution_count": 54,
     "metadata": {},
     "output_type": "execute_result"
    }
   ],
   "source": [
    "# or\n",
    "# retorna o primeiro valor verdadeiro, caso não haja, retorna o último valor\n",
    "\n",
    "print(bool(0 or 3))\n",
    "0 or 3"
   ]
  },
  {
   "cell_type": "code",
   "execution_count": 55,
   "metadata": {},
   "outputs": [
    {
     "name": "stdout",
     "output_type": "stream",
     "text": [
      "True\n"
     ]
    },
    {
     "data": {
      "text/plain": [
       "3"
      ]
     },
     "execution_count": 55,
     "metadata": {},
     "output_type": "execute_result"
    }
   ],
   "source": [
    "# or\n",
    "# retorna o primeiro valor verdadeiro, caso não haja, retorna o último valor\n",
    "\n",
    "print(bool(3 or 0))\n",
    "3 or 0"
   ]
  },
  {
   "cell_type": "code",
   "execution_count": 57,
   "metadata": {},
   "outputs": [
    {
     "name": "stdout",
     "output_type": "stream",
     "text": [
      "True\n"
     ]
    },
    {
     "data": {
      "text/plain": [
       "True"
      ]
     },
     "execution_count": 57,
     "metadata": {},
     "output_type": "execute_result"
    }
   ],
   "source": [
    "# not\n",
    "# not True == False\n",
    "# not False == True\n",
    "\n",
    "print(bool(not 0))\n",
    "not 0"
   ]
  },
  {
   "cell_type": "code",
   "execution_count": 58,
   "metadata": {},
   "outputs": [
    {
     "name": "stdout",
     "output_type": "stream",
     "text": [
      "True\n"
     ]
    },
    {
     "data": {
      "text/plain": [
       "True"
      ]
     },
     "execution_count": 58,
     "metadata": {},
     "output_type": "execute_result"
    }
   ],
   "source": [
    "# not\n",
    "# not True == False\n",
    "# not False == True\n",
    "\n",
    "print(bool(not None))\n",
    "not None"
   ]
  },
  {
   "cell_type": "code",
   "execution_count": 59,
   "metadata": {},
   "outputs": [
    {
     "name": "stdout",
     "output_type": "stream",
     "text": [
      "False\n"
     ]
    },
    {
     "data": {
      "text/plain": [
       "False"
      ]
     },
     "execution_count": 59,
     "metadata": {},
     "output_type": "execute_result"
    }
   ],
   "source": [
    "# not\n",
    "# not True == False\n",
    "# not False == True\n",
    "\n",
    "print(bool(not 3))\n",
    "not 3"
   ]
  },
  {
   "cell_type": "code",
   "execution_count": 60,
   "metadata": {},
   "outputs": [
    {
     "name": "stdout",
     "output_type": "stream",
     "text": [
      "False\n"
     ]
    },
    {
     "data": {
      "text/plain": [
       "False"
      ]
     },
     "execution_count": 60,
     "metadata": {},
     "output_type": "execute_result"
    }
   ],
   "source": [
    "# not\n",
    "# not True == False\n",
    "# not False == True\n",
    "\n",
    "print(bool(not \":\"))\n",
    "not \":\""
   ]
  },
  {
   "cell_type": "markdown",
   "metadata": {},
   "source": [
    "<hr size = '5'>"
   ]
  },
  {
   "cell_type": "markdown",
   "metadata": {},
   "source": [
    "## **4.3. SHORT-CIRCUIT EVALUATION**\n"
   ]
  },
  {
   "cell_type": "markdown",
   "metadata": {},
   "source": [
    "### **4.2.1. OBJETIVOS**"
   ]
  },
  {
   "cell_type": "markdown",
   "metadata": {},
   "source": [
    "Podem ser utilizadas para:\n",
    "   - evitar erros\n",
    "   - definir valores default\n",
    "   - comparações encadeadas"
   ]
  },
  {
   "cell_type": "markdown",
   "metadata": {},
   "source": [
    "### **4.2.2. AND**"
   ]
  },
  {
   "cell_type": "markdown",
   "metadata": {},
   "source": [
    ">```python\n",
    ">x1 and x2 and x3 and … xn \n",
    ">```\n",
    "\n",
    "    - A equação será avaliada FALSY se qualquer x for FALSE\n",
    "    - A equação será avaliada até o final e retornará o último item desde que todos x forem TRUE \n",
    "    - Caso haja algum FALSY a expressão retorna o valor do x False."
   ]
  },
  {
   "cell_type": "markdown",
   "metadata": {},
   "source": [
    "### **4.2.3. OR**"
   ]
  },
  {
   "cell_type": "markdown",
   "metadata": {},
   "source": [
    ">```python\n",
    ">x1 or x2 or x3 or … xn\n",
    ">```\n",
    "\n",
    "    - A equação será True se qualquer x for TRUTHY\n",
    "    - A equação será avaliada até encontrar o primeiro valor TRUE que será o resultado da expressão\n",
    "    "
   ]
  },
  {
   "cell_type": "markdown",
   "metadata": {},
   "source": [
    "<hr size=\"5\"/>\n",
    "\n",
    "<font style=\"font-size:20px;\">[Voltar](#Conteúdo-Operadores:)</font>\n",
    "<hr size=\"5\"/>"
   ]
  },
  {
   "cell_type": "code",
   "execution_count": 5,
   "metadata": {},
   "outputs": [
    {
     "data": {
      "text/plain": [
       "{'t1', 't2'}"
      ]
     },
     "execution_count": 5,
     "metadata": {},
     "output_type": "execute_result"
    }
   ],
   "source": [
    "# compound AND\n",
    "# se todas os itens forem TRUTHY retorna o último valor da lista\n",
    "\n",
    "1 and 'true' and ['lista','lista'] and {'t1', 't2'}"
   ]
  },
  {
   "cell_type": "code",
   "execution_count": 6,
   "metadata": {},
   "outputs": [
    {
     "data": {
      "text/plain": [
       "[]"
      ]
     },
     "execution_count": 6,
     "metadata": {},
     "output_type": "execute_result"
    }
   ],
   "source": [
    "# compound AND\n",
    "# se todas os itens forem TRUTHY retorna o último valor da lista, caso contrário, retorna o valor False\n",
    "\n",
    "1 and 'true' and [] and {'t1', 't2'}"
   ]
  },
  {
   "cell_type": "code",
   "execution_count": 8,
   "metadata": {},
   "outputs": [
    {
     "data": {
      "text/plain": [
       "0"
      ]
     },
     "execution_count": 8,
     "metadata": {},
     "output_type": "execute_result"
    }
   ],
   "source": [
    "# compound OR\n",
    "# se todas os itens forem FALSY retorna o último valor da lista\n",
    "\n",
    "0 or 0.0 or [] or {} or 0"
   ]
  },
  {
   "cell_type": "code",
   "execution_count": 10,
   "metadata": {},
   "outputs": [
    {
     "data": {
      "text/plain": [
       "[1]"
      ]
     },
     "execution_count": 10,
     "metadata": {},
     "output_type": "execute_result"
    }
   ],
   "source": [
    "# compound OR\n",
    "# se todas os itens forem FALSY retorna o último valor da lista, caso contrário, retorna o primeiro valor true\n",
    "\n",
    "0 or 0.0 or [1] or {} or 0"
   ]
  },
  {
   "cell_type": "code",
   "execution_count": 11,
   "metadata": {},
   "outputs": [
    {
     "data": {
      "text/plain": [
       "0"
      ]
     },
     "execution_count": 11,
     "metadata": {},
     "output_type": "execute_result"
    }
   ],
   "source": [
    "# nesse caso, utilizamos o compound AND para evitar um possível erro da divisão onde a = 0\n",
    "# evitando erros por exceções\n",
    "\n",
    "a = 0\n",
    "b = 5\n",
    "a and b/a > 0"
   ]
  },
  {
   "cell_type": "code",
   "execution_count": 14,
   "metadata": {},
   "outputs": [
    {
     "name": "stdin",
     "output_type": "stream",
     "text": [
      "nome: \n"
     ]
    },
    {
     "name": "stdout",
     "output_type": "stream",
     "text": [
      "Olá <valor padrão>, bom dia\n"
     ]
    }
   ],
   "source": [
    "# Selecionar valores default\n",
    "\n",
    "nome = input ('nome:') or '<valor padrão>'\n",
    "saudacao = 'Olá {0}, bom dia'.format(nome)\n",
    "print(saudacao)"
   ]
  },
  {
   "cell_type": "code",
   "execution_count": 16,
   "metadata": {},
   "outputs": [
    {
     "data": {
      "text/plain": [
       "True"
      ]
     },
     "execution_count": 16,
     "metadata": {},
     "output_type": "execute_result"
    }
   ],
   "source": [
    "# comparações encadeadas\n",
    "# nesse caso o Y será avaliado apenas 1x\n",
    "\n",
    "x = 1\n",
    "y = 2\n",
    "z = 2\n",
    "\n",
    "x < y <= z"
   ]
  },
  {
   "cell_type": "code",
   "execution_count": 18,
   "metadata": {},
   "outputs": [
    {
     "data": {
      "text/plain": [
       "True"
      ]
     },
     "execution_count": 18,
     "metadata": {},
     "output_type": "execute_result"
    }
   ],
   "source": [
    "# nesse caso o y será avaliado 2x\n",
    "\n",
    "x = 1\n",
    "y = 2\n",
    "z = 2\n",
    "\n",
    "x < y and y <= z"
   ]
  },
  {
   "cell_type": "markdown",
   "metadata": {},
   "source": [
    "<hr size=\"5\"/>\n",
    "<b><i><h2 style=\"color:ghostwhite;text-align:center;font-size:50px;background-color:darkblue\">\n",
    "    OPERADORES DE MEMBRO E IDENTIDADE\n",
    "    </h2></i></b>\n",
    "<hr size=\"5\"/>"
   ]
  },
  {
   "cell_type": "markdown",
   "metadata": {},
   "source": [
    "# **5. OPERADORES DE MEMBRO E IDENTIDADE**"
   ]
  },
  {
   "cell_type": "markdown",
   "metadata": {},
   "source": [
    "- Consultar se algum item faz parte de uma lista \n",
    "\n",
    "    **1. IN**\\\n",
    "    **2. NOT IN**\n",
    "\n",
    "\n",
    "- Consultar se os dados são idênticos \n",
    "\n",
    "    **1. IS**\\\n",
    "    **2. IS NOT**"
   ]
  },
  {
   "cell_type": "markdown",
   "metadata": {},
   "source": [
    "<hr size=\"5\"/>\n",
    "\n",
    "<font style=\"font-size:20px;\">[Voltar](#Conteúdo-Operadores:)</font>\n",
    "<hr size=\"5\"/>"
   ]
  },
  {
   "cell_type": "code",
   "execution_count": 60,
   "metadata": {},
   "outputs": [
    {
     "data": {
      "text/plain": [
       "True"
      ]
     },
     "execution_count": 60,
     "metadata": {},
     "output_type": "execute_result"
    }
   ],
   "source": [
    "# operador de membro\n",
    "\n",
    "lista = [1,2,3,4,5]\n",
    "2 in lista"
   ]
  },
  {
   "cell_type": "code",
   "execution_count": 61,
   "metadata": {},
   "outputs": [
    {
     "data": {
      "text/plain": [
       "False"
      ]
     },
     "execution_count": 61,
     "metadata": {},
     "output_type": "execute_result"
    }
   ],
   "source": [
    "# operador de membro\n",
    "\n",
    "0 in lista"
   ]
  },
  {
   "cell_type": "code",
   "execution_count": 62,
   "metadata": {},
   "outputs": [
    {
     "data": {
      "text/plain": [
       "True"
      ]
     },
     "execution_count": 62,
     "metadata": {},
     "output_type": "execute_result"
    }
   ],
   "source": [
    "# operador de membro\n",
    "\n",
    "0 not in lista"
   ]
  },
  {
   "cell_type": "code",
   "execution_count": 63,
   "metadata": {},
   "outputs": [
    {
     "data": {
      "text/plain": [
       "False"
      ]
     },
     "execution_count": 63,
     "metadata": {},
     "output_type": "execute_result"
    }
   ],
   "source": [
    "# operador de membro\n",
    "\n",
    "5 not in lista"
   ]
  },
  {
   "cell_type": "code",
   "execution_count": 64,
   "metadata": {},
   "outputs": [
    {
     "data": {
      "text/plain": [
       "False"
      ]
     },
     "execution_count": 64,
     "metadata": {},
     "output_type": "execute_result"
    }
   ],
   "source": [
    "# operador de identidade\n",
    "\n",
    "x = 1\n",
    "y = 2\n",
    "z = 3\n",
    "\n",
    "x is y"
   ]
  },
  {
   "cell_type": "code",
   "execution_count": 65,
   "metadata": {},
   "outputs": [
    {
     "data": {
      "text/plain": [
       "True"
      ]
     },
     "execution_count": 65,
     "metadata": {},
     "output_type": "execute_result"
    }
   ],
   "source": [
    "x + y is z"
   ]
  },
  {
   "cell_type": "code",
   "execution_count": 66,
   "metadata": {},
   "outputs": [
    {
     "data": {
      "text/plain": [
       "True"
      ]
     },
     "execution_count": 66,
     "metadata": {},
     "output_type": "execute_result"
    }
   ],
   "source": [
    "y is not x"
   ]
  },
  {
   "cell_type": "code",
   "execution_count": 70,
   "metadata": {},
   "outputs": [
    {
     "name": "stdout",
     "output_type": "stream",
     "text": [
      "True\n",
      "False\n",
      "True\n"
     ]
    }
   ],
   "source": [
    "lista_a = [1,2,3]\n",
    "lista_b = lista_a\n",
    "lista_c = [1,2,3]\n",
    "# nesse caso, lista A e B remetem a mesma lista, ja a lista C, mesmo com o conteúdo\n",
    "# igual, remete a uma lista diferente.\n",
    "\n",
    "\n",
    "print(lista_a is lista_b)\n",
    "print(lista_b is lista_c)\n",
    "print(lista_a is not lista_c)"
   ]
  },
  {
   "cell_type": "code",
   "execution_count": 32,
   "metadata": {},
   "outputs": [
    {
     "data": {
      "text/plain": [
       "33"
      ]
     },
     "execution_count": 32,
     "metadata": {},
     "output_type": "execute_result"
    }
   ],
   "source": [
    "1 + 2 ** 3 * 4"
   ]
  }
 ],
 "metadata": {
  "kernelspec": {
   "display_name": "Python 3",
   "language": "python",
   "name": "python3"
  },
  "language_info": {
   "codemirror_mode": {
    "name": "ipython",
    "version": 3
   },
   "file_extension": ".py",
   "mimetype": "text/x-python",
   "name": "python",
   "nbconvert_exporter": "python",
   "pygments_lexer": "ipython3",
   "version": "3.8.3"
  }
 },
 "nbformat": 4,
 "nbformat_minor": 4
}
