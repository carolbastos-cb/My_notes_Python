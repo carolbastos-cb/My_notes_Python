{
  "nbformat": 4,
  "nbformat_minor": 0,
  "metadata": {
    "kernelspec": {
      "display_name": "Python 3",
      "language": "python",
      "name": "python3"
    },
    "language_info": {
      "codemirror_mode": {
        "name": "ipython",
        "version": 3
      },
      "file_extension": ".py",
      "mimetype": "text/x-python",
      "name": "python",
      "nbconvert_exporter": "python",
      "pygments_lexer": "ipython3",
      "version": "3.7.9"
    },
    "colab": {
      "name": "Py_Variáveis.ipynb",
      "provenance": [],
      "include_colab_link": true
    }
  },
  "cells": [
    {
      "cell_type": "markdown",
      "metadata": {
        "id": "view-in-github",
        "colab_type": "text"
      },
      "source": [
        "<a href=\"https://colab.research.google.com/github/carolbastos-cb/My_notes_Python/blob/master/Py_Varia%CC%81veis.ipynb\" target=\"_parent\"><img src=\"https://colab.research.google.com/assets/colab-badge.svg\" alt=\"Open In Colab\"/></a>"
      ]
    },
    {
      "cell_type": "markdown",
      "metadata": {
        "id": "QLDJb0cTOO9t",
        "colab_type": "text"
      },
      "source": [
        "<b><i><h1 style=\"color:GhostWhite;text-align:center;font-size:45px;background-color:dimgray\">\n",
        "    VARIABLES & EXPRESSIONS\n",
        "    </h1></i></b>\n",
        "<hr size=\"10\" color=\"blue\">"
      ]
    },
    {
      "cell_type": "markdown",
      "metadata": {
        "id": "wOF1s9L6OO9u",
        "colab_type": "text"
      },
      "source": [
        "# Conteúdo:"
      ]
    },
    {
      "cell_type": "markdown",
      "metadata": {
        "id": "OLrJDb2eOO9v",
        "colab_type": "text"
      },
      "source": [
        "<b><font style = 'font-size:20px'>[1. VARIÁVEIS](#1.-VARIÁVEIS)</font></b>\n",
        "    \n",
        "   *[1.1 Informações Gerais](#1.1.-INFORMAÇÕES-GERAIS)   \n",
        "   [1.2 Regras para nomes de variáveis](#1.2.-REGRAS-PARA-NOMEAR-UMA-VARIÁVEL)   \n",
        "   [1.3 Diagrama de Referência](#1.3.-DIAGRAMA-DE-REFERÊNCIA)*       \n",
        "\n",
        "<b><font style = 'font-size:20px'>[2. STATEMENT E EXPRESSÕES](#2.-STATEMENT-&-EXPRESSÕES)</font></b>\n",
        "\n",
        "   *[2.1 Informações Gerais](#2.1.-INFORMAÇÕES-GERAIS)*\n",
        "\n",
        "<hr size=\"10\" color=\"blue\">"
      ]
    },
    {
      "cell_type": "markdown",
      "metadata": {
        "id": "8wbG9vKWOO9v",
        "colab_type": "text"
      },
      "source": [
        "# [**1. VARIÁVEIS**](https://realpython.com/python-variables/)"
      ]
    },
    {
      "cell_type": "markdown",
      "metadata": {
        "id": "ONBp38uKOO9w",
        "colab_type": "text"
      },
      "source": [
        "## **1.1. INFORMAÇÕES GERAIS**"
      ]
    },
    {
      "cell_type": "markdown",
      "metadata": {
        "id": "4fSVQ3lDOO9w",
        "colab_type": "text"
      },
      "source": [
        "- São os nomes que se referem aos objetos\n",
        "- **Assignment statements** ou **Atribuir valores a variáveis** é a forma de criar novas variáveis e também atribuir valores a elas\n",
        "- Para atribuir um valor a uma **variável** usamos o sinal de **`=`**\n",
        "\n",
        "\n",
        "```python\n",
        "var = 1234\n",
        "var_2 = \"isso é o valor de uma variável\"\n",
        "```\n",
        "\n",
        "\n",
        "- Python é uma linguagem ***dinâmicamente tipada***\n",
        "- O tipo de uma variável é definido pelo objeto ao qual ela se refere\n"
      ]
    },
    {
      "cell_type": "markdown",
      "metadata": {
        "id": "34hIwqWEOO9x",
        "colab_type": "text"
      },
      "source": [
        "## **1.2. REGRAS PARA NOMEAR UMA VARIÁVEL**"
      ]
    },
    {
      "cell_type": "markdown",
      "metadata": {
        "id": "W9uPkjwIOO9x",
        "colab_type": "text"
      },
      "source": [
        "- Nomes de variáveis podem ser tão longos quanto desejado\n",
        "- Alguns caracteres podem ser parte de um nome:\n",
        "    - letras\n",
        "    - números\n",
        "    - undercore `_` --> muito utilizado para separar palavras no nome da variável\n",
        "\n",
        "**Algumas regras:**\n",
        "\n",
        "1. Tem que começar com uma letra\n",
        "2. Nomes de variáveis são case-sensitive, e convencionalmente usa-se sempre **letras minúsculas**\n",
        "3. Não deve conter espaços\n",
        "4. Não pode ser nenhum nome reservado (**keyword**)\n",
        " \n",
        " \n",
        " \n",
        " **Nomes**  |  **Reservados**|  **(Keywords)** | \n",
        ":---:|:---:|:---:| \n",
        "False|def|if|raise\n",
        "None|del|import|return\n",
        "True|elif|in|try\n",
        "and|else|is|while\n",
        "as|except|lambda|with\n",
        "assert|finally|nonlocal|yield\n",
        "break|for|notv\n",
        "class|from|or|\n",
        "continue|global|pass"
      ]
    },
    {
      "cell_type": "markdown",
      "metadata": {
        "id": "rMphNdQAOO9y",
        "colab_type": "text"
      },
      "source": [
        "## **1.3. DIAGRAMA DE REFERÊNCIA**"
      ]
    },
    {
      "cell_type": "markdown",
      "metadata": {
        "id": "de0yY2TROO9y",
        "colab_type": "text"
      },
      "source": [
        "- Python armazena variáveis e objetos em espaços de memória do sistema e faz o link entre eles\n",
        "\n",
        "<img width=\"300\" aling=\"right\" src=\"https://files.realpython.com/media/t.d476d91592cd.png\">\n",
        "\n",
        "- Vale ressaltar que essa \"imagem\" do diagrama de referência é específica para aquele momento. Isso se dá porque as variáveis e objetos se alteram a medida que rodamos o código.\n"
      ]
    },
    {
      "cell_type": "markdown",
      "metadata": {
        "id": "ItZP56yQOO9z",
        "colab_type": "text"
      },
      "source": [
        "<hr size=\"5\" color=\"grey\"/>\n",
        "\n",
        "<font style=\"font-size:20px;\">[Voltar](#Conteúdo:)</font>\n",
        "\n",
        "<hr size=\"5\" color=\"grey\"/>"
      ]
    },
    {
      "cell_type": "code",
      "metadata": {
        "id": "bR5c37moOO9z",
        "colab_type": "code",
        "colab": {}
      },
      "source": [
        "# declarando uma variável através de atribuição de valores\n",
        "\n",
        "var_1 = 'uma string'"
      ],
      "execution_count": null,
      "outputs": []
    },
    {
      "cell_type": "code",
      "metadata": {
        "id": "wb9G4KwIOO92",
        "colab_type": "code",
        "colab": {},
        "outputId": "a524c5ba-d0b5-4b4e-e00e-fbdc4d07c70c"
      },
      "source": [
        "print(var_1)"
      ],
      "execution_count": null,
      "outputs": [
        {
          "output_type": "stream",
          "text": [
            "uma string\n"
          ],
          "name": "stdout"
        }
      ]
    },
    {
      "cell_type": "markdown",
      "metadata": {
        "id": "xYa5FUWXOO95",
        "colab_type": "text"
      },
      "source": [
        "<hr size='5' color=\"blue\">"
      ]
    },
    {
      "cell_type": "markdown",
      "metadata": {
        "id": "WfytIdLJOO96",
        "colab_type": "text"
      },
      "source": [
        "# **2. STATEMENT & EXPRESSÕES**"
      ]
    },
    {
      "cell_type": "markdown",
      "metadata": {
        "id": "AvMnj4SqOO97",
        "colab_type": "text"
      },
      "source": [
        "## **2.1. INFORMAÇÕES GERAIS**"
      ]
    },
    {
      "cell_type": "markdown",
      "metadata": {
        "id": "rs_yzRAqOO98",
        "colab_type": "text"
      },
      "source": [
        "- Statement é uma instrução que pode ser executada peelo Python\n",
        "- Existem vários tipos de statements, como por exemplo;\n",
        "    - assignemnt\n",
        "    - for\n",
        "    - while\n",
        "    - if\n",
        "    - import\n",
        "    - etc\n",
        "- Através de **assingment statements** podemos fazer **atribuições de valores a variáveis**\n",
        "- Os valores atribuídos as variáveis pode ser resultado de uma expressão\n",
        "\n",
        "\n",
        "- Expressões são combinações de valores, variáveis, operadores que serão avaliadas pelo interpretador Python para retornar algum valor\n",
        "- Um valor isolado, assim como uma variável, são considerados expressões simples e podem ser avaliados\n",
        "- Avaliar uma variável retorna o valor atribuído a ela\n",
        "\n",
        "\n",
        "```python\n",
        "var = 2 + 2\n",
        "var_2 = len(\"isso é o valor de uma variável\")\n",
        "```\n"
      ]
    },
    {
      "cell_type": "markdown",
      "metadata": {
        "id": "ucwOvcsROO98",
        "colab_type": "text"
      },
      "source": [
        "<hr size=\"5\" color=\"grey\"/>\n",
        "\n",
        "<font style=\"font-size:20px;\">[Voltar](#Conteúdo:)</font>\n",
        "\n",
        "<hr size=\"5\" color=\"grey\"/>"
      ]
    },
    {
      "cell_type": "code",
      "metadata": {
        "id": "Ulja6GkUOwSX",
        "colab_type": "code",
        "colab": {}
      },
      "source": [
        ""
      ],
      "execution_count": null,
      "outputs": []
    }
  ]
}